{
 "cells": [
  {
   "cell_type": "markdown",
   "id": "5a695ec2",
   "metadata": {},
   "source": [
    "## if Statements"
   ]
  },
  {
   "cell_type": "code",
   "execution_count": 51,
   "id": "bece9c2f",
   "metadata": {},
   "outputs": [
    {
     "name": "stdout",
     "output_type": "stream",
     "text": [
      "You are eligible to vote!\n"
     ]
    }
   ],
   "source": [
    "age = int(input(\"Enter your age: \"))\n",
    "if age >= 18:\n",
    "    print(\"You are eligible to vote!\")\n",
    "else:\n",
    "    print(\"Allow Age is Greter than or equal to 18.\")"
   ]
  },
  {
   "cell_type": "code",
   "execution_count": 52,
   "id": "2a4fadcf",
   "metadata": {},
   "outputs": [
    {
     "data": {
      "text/plain": [
       "True"
      ]
     },
     "execution_count": 52,
     "metadata": {},
     "output_type": "execute_result"
    }
   ],
   "source": [
    "age >= 20"
   ]
  },
  {
   "cell_type": "markdown",
   "id": "7a49bca9",
   "metadata": {},
   "source": [
    "# 25-August-2025"
   ]
  },
  {
   "cell_type": "markdown",
   "id": "fafed2aa",
   "metadata": {},
   "source": [
    "## Else Statement\n",
    "- The else Statement executes a block of code if the condition in the `if` statements is False"
   ]
  },
  {
   "cell_type": "code",
   "execution_count": 2,
   "id": "2f5e2206",
   "metadata": {},
   "outputs": [
    {
     "name": "stdout",
     "output_type": "stream",
     "text": [
      "You are Not eligible for voting.\n"
     ]
    }
   ],
   "source": [
    "age = 16\n",
    "\n",
    "if age >= 18:\n",
    "    print(\"You are eligible for voting.\")\n",
    "else:\n",
    "    print(\"You are Not eligible for voting.\")"
   ]
  },
  {
   "cell_type": "markdown",
   "id": "e736b9c0",
   "metadata": {},
   "source": [
    "## `elif` statement\n",
    "- The `elif` statement allows you to check multiple conditions. \n",
    "- It stands for `else if`"
   ]
  },
  {
   "cell_type": "code",
   "execution_count": 11,
   "id": "b4c40cea",
   "metadata": {},
   "outputs": [
    {
     "name": "stdout",
     "output_type": "stream",
     "text": [
      "You are Young.\n"
     ]
    }
   ],
   "source": [
    "age = float(input(\"Enter your age: \"))\n",
    "\n",
    "if age < 18:\n",
    "    print(\"You are Teeneger\")\n",
    "elif age >= 18 and age <= 24:\n",
    "    print(\"You are Adult\")\n",
    "elif age >= 25 and age <= 30:\n",
    "    print(\"You are Young.\")\n",
    "else:\n",
    "    print(\"You're Mature\")\n"
   ]
  },
  {
   "cell_type": "markdown",
   "id": "c794395b",
   "metadata": {},
   "source": [
    "## Nested Conditional Statements: "
   ]
  },
  {
   "cell_type": "code",
   "execution_count": 5,
   "id": "64a3c447",
   "metadata": {},
   "outputs": [
    {
     "name": "stdout",
     "output_type": "stream",
     "text": [
      "The given number: 44 is Positive.\n",
      "The given number 44 is Even.\n"
     ]
    }
   ],
   "source": [
    "# Example: Check the number wether it is even, odd or negative?\n",
    "\n",
    "num = int(input(\"Enter the Number to ckeck: \"))\n",
    "if num > 0:\n",
    "    print(f\"The given number: {num} is Positive.\")\n",
    "    if num%2 == 0:\n",
    "        print(f\"The given number {num} is Even.\")\n",
    "    else:\n",
    "        print(f\"The given number {num} is ODD.\")\n",
    "else:\n",
    "    print(f\"The given number {num} is Negative(-ve)\")"
   ]
  },
  {
   "cell_type": "markdown",
   "id": "874c8aa9",
   "metadata": {},
   "source": [
    "## Practical Example"
   ]
  },
  {
   "cell_type": "markdown",
   "id": "5490bbca",
   "metadata": {},
   "source": [
    "#### Determine if a year is a leap year using nested condition statement."
   ]
  },
  {
   "cell_type": "code",
   "execution_count": 39,
   "id": "10f1b0ae",
   "metadata": {},
   "outputs": [
    {
     "name": "stdout",
     "output_type": "stream",
     "text": [
      "Given Year: 400 is a Leap Year\n"
     ]
    }
   ],
   "source": [
    "year = int(input(\"Enter the Year: \"))\n",
    "\n",
    "# Step 1: Check divisibility by 4\n",
    "if year % 4 == 0:  \n",
    "    # If divisible by 4, it might be a leap year\n",
    "\n",
    "    # Step 2: Check divisibility by 100\n",
    "    if year % 100 == 0:\n",
    "        # If divisible by 100, it might still be leap but needs further check\n",
    "        \n",
    "        # Step 3: Check divisibility by 400\n",
    "        if year % 400 == 0:\n",
    "            # If divisible by 400 → Leap Year\n",
    "            print(f\"Given Year: {year} is a Leap Year\")\n",
    "        else:\n",
    "            # If divisible by 100 but NOT by 400 → Not a Leap Year\n",
    "            print(f\"Given Year: {year} is NOT a Leap Year\")\n",
    "    else:\n",
    "        # If divisible by 4 but NOT by 100 → Leap Year\n",
    "        print(f\"Given Year: {year} is a Leap Year\")\n",
    "else:\n",
    "    # If NOT divisible by 4 → Not a Leap Year\n",
    "    print(f\"Given Year: {year} is NOT a Leap Year\")\n"
   ]
  },
  {
   "cell_type": "code",
   "execution_count": 41,
   "id": "525fc525",
   "metadata": {},
   "outputs": [
    {
     "data": {
      "text/plain": [
       "0"
      ]
     },
     "execution_count": 41,
     "metadata": {},
     "output_type": "execute_result"
    }
   ],
   "source": [
    "400%4"
   ]
  },
  {
   "cell_type": "markdown",
   "id": "ef18c13c",
   "metadata": {},
   "source": [
    "#### Assigment\n",
    "- Simple calculator program"
   ]
  },
  {
   "cell_type": "code",
   "execution_count": 49,
   "id": "9ec50a3f",
   "metadata": {},
   "outputs": [
    {
     "name": "stdout",
     "output_type": "stream",
     "text": [
      "4.0 / 10.0 = 0.4 \n"
     ]
    }
   ],
   "source": [
    "num1 = float(input(\"Enter the 1st Number: \"))\n",
    "operator = input(\"Enter the operator: +, -, *, /: \")\n",
    "num2 = float(input(\"Enter the 2nd Number: \"))\n",
    "\n",
    "if operator == \"+\":\n",
    "    result = num1 + num2\n",
    "elif operator == \"-\":\n",
    "    result = num1 - num2\n",
    "elif operator == '*':\n",
    "    result = num1 * num2\n",
    "elif operator == \"/\":\n",
    "    if num2 != 0:\n",
    "        result = num1 / num2\n",
    "    else:\n",
    "        result = \"Error! Division by Zero.\"\n",
    "else:\n",
    "    result = \"Invalid operation.\"\n",
    "\n",
    "print(f\"{num1} {operator} {num2} = {result} \")"
   ]
  },
  {
   "cell_type": "markdown",
   "id": "3ead04d5",
   "metadata": {},
   "source": [
    "# Loops in Python"
   ]
  },
  {
   "cell_type": "markdown",
   "id": "c6e2c95f",
   "metadata": {},
   "source": [
    "## `for` Loop"
   ]
  },
  {
   "cell_type": "code",
   "execution_count": 54,
   "id": "5e5806b6",
   "metadata": {},
   "outputs": [
    {
     "data": {
      "text/plain": [
       "range(0, 5)"
      ]
     },
     "execution_count": 54,
     "metadata": {},
     "output_type": "execute_result"
    }
   ],
   "source": [
    "range(5)"
   ]
  },
  {
   "cell_type": "code",
   "execution_count": 55,
   "id": "a65ee612",
   "metadata": {},
   "outputs": [
    {
     "name": "stdout",
     "output_type": "stream",
     "text": [
      "0\n",
      "1\n",
      "2\n",
      "3\n",
      "4\n"
     ]
    }
   ],
   "source": [
    "for i in range(5):\n",
    "    print(i)"
   ]
  },
  {
   "cell_type": "code",
   "execution_count": 59,
   "id": "6a4146ac",
   "metadata": {},
   "outputs": [
    {
     "name": "stdout",
     "output_type": "stream",
     "text": [
      "10\n",
      "9\n",
      "8\n",
      "7\n",
      "6\n",
      "5\n",
      "4\n",
      "3\n",
      "2\n",
      "1\n"
     ]
    }
   ],
   "source": [
    "for i in range(10, 0, -1):\n",
    "    print(i)"
   ]
  },
  {
   "cell_type": "code",
   "execution_count": null,
   "id": "3b3ab5eb",
   "metadata": {},
   "outputs": [
    {
     "name": "stdout",
     "output_type": "stream",
     "text": [
      "R\n",
      "u\n",
      "s\n",
      "h\n",
      "i\n",
      " \n",
      "Y\n",
      "a\n",
      "d\n",
      "a\n",
      "v\n"
     ]
    }
   ],
   "source": [
    "str = \"Rushi Yadav\"\n",
    "\n",
    "for i in str:\n",
    "    print(i)"
   ]
  },
  {
   "cell_type": "markdown",
   "id": "a646b28f",
   "metadata": {},
   "source": [
    "## While Loop\n",
    "-- The `while loop` continues to execute as long as the condition is `True`"
   ]
  },
  {
   "cell_type": "code",
   "execution_count": 4,
   "id": "cd8d588f",
   "metadata": {},
   "outputs": [
    {
     "name": "stdout",
     "output_type": "stream",
     "text": [
      "0\n",
      "1\n",
      "2\n",
      "3\n",
      "4\n"
     ]
    }
   ],
   "source": [
    "count = 0\n",
    "\n",
    "while count < 5:\n",
    "    print(count)\n",
    "    # count += 1\n",
    "    count = count + 1"
   ]
  },
  {
   "cell_type": "code",
   "execution_count": 11,
   "id": "9e57936f",
   "metadata": {},
   "outputs": [
    {
     "name": "stdout",
     "output_type": "stream",
     "text": [
      "0\n"
     ]
    }
   ],
   "source": [
    "count = 0\n",
    "while count%2 == 0:\n",
    "    print(count)\n",
    "    count += 1"
   ]
  },
  {
   "cell_type": "markdown",
   "id": "a3a85ceb",
   "metadata": {},
   "source": [
    "## Loop control statements:\n",
    "- break\n",
    "- continue\n",
    "- pass"
   ]
  },
  {
   "cell_type": "markdown",
   "id": "93dd6bc7",
   "metadata": {},
   "source": [
    "#### break:\n",
    "- The break statement exists the loop permaturely"
   ]
  },
  {
   "cell_type": "code",
   "execution_count": 13,
   "id": "799a9287",
   "metadata": {},
   "outputs": [
    {
     "name": "stdout",
     "output_type": "stream",
     "text": [
      "0\n",
      "1\n",
      "2\n",
      "3\n",
      "4\n"
     ]
    }
   ],
   "source": [
    "for i in range(10):\n",
    "    if i == 5:\n",
    "        break\n",
    "    print(i)"
   ]
  },
  {
   "cell_type": "markdown",
   "id": "3ccb92bc",
   "metadata": {},
   "source": [
    "#### continue\n",
    "- The continue statement skips the current iteration and continues with the next."
   ]
  },
  {
   "cell_type": "code",
   "execution_count": 14,
   "id": "300a3d96",
   "metadata": {},
   "outputs": [
    {
     "name": "stdout",
     "output_type": "stream",
     "text": [
      "1\n",
      "3\n",
      "5\n",
      "7\n",
      "9\n"
     ]
    }
   ],
   "source": [
    "for i in range(10):\n",
    "    if i%2 == 0:\n",
    "        continue\n",
    "    print(i)"
   ]
  },
  {
   "cell_type": "code",
   "execution_count": 16,
   "id": "579b437c",
   "metadata": {},
   "outputs": [
    {
     "name": "stdout",
     "output_type": "stream",
     "text": [
      "0\n",
      "2\n",
      "4\n",
      "6\n",
      "8\n"
     ]
    }
   ],
   "source": [
    "for i in range(10):\n",
    "    if i%2 != 0:\n",
    "        continue\n",
    "    print(i)"
   ]
  },
  {
   "cell_type": "markdown",
   "id": "09690b86",
   "metadata": {},
   "source": [
    "#### pass Stetement\n",
    "- The `pass stetement` is a null operation; it does nothing"
   ]
  },
  {
   "cell_type": "code",
   "execution_count": 18,
   "id": "3ae0df60",
   "metadata": {},
   "outputs": [
    {
     "name": "stdout",
     "output_type": "stream",
     "text": [
      "0\n",
      "1\n",
      "2\n",
      "the number is 3\n",
      "3\n",
      "4\n"
     ]
    }
   ],
   "source": [
    "for i in range(5):\n",
    "    if i == 3:\n",
    "        print(\"the number is\",i)\n",
    "        pass\n",
    "    print(i)"
   ]
  },
  {
   "cell_type": "code",
   "execution_count": 19,
   "id": "c12ad9d4",
   "metadata": {},
   "outputs": [],
   "source": [
    "def empty_func():\n",
    "    pass"
   ]
  },
  {
   "cell_type": "code",
   "execution_count": 20,
   "id": "fa236695",
   "metadata": {},
   "outputs": [],
   "source": [
    "empty_func()"
   ]
  },
  {
   "cell_type": "markdown",
   "id": "5d8f4f9c",
   "metadata": {},
   "source": [
    "## Nested loops\n",
    "- A loop inside a loop"
   ]
  },
  {
   "cell_type": "code",
   "execution_count": 23,
   "id": "dea780c6",
   "metadata": {},
   "outputs": [
    {
     "name": "stdout",
     "output_type": "stream",
     "text": [
      "i: 0 and j:0\n",
      "i: 0 and j:1\n",
      "i: 1 and j:0\n",
      "i: 1 and j:1\n",
      "i: 2 and j:0\n",
      "i: 2 and j:1\n"
     ]
    }
   ],
   "source": [
    "for i in range(3):\n",
    "    for j in range(2):\n",
    "        print(f\"i: {i} and j:{j}\")\n"
   ]
  },
  {
   "cell_type": "markdown",
   "id": "fd399a94",
   "metadata": {},
   "source": [
    "#### Examples - Calculate the sum of first N natural numbers using a `while` and `for` loop"
   ]
  },
  {
   "cell_type": "code",
   "execution_count": 24,
   "id": "279caa46",
   "metadata": {},
   "outputs": [
    {
     "name": "stdout",
     "output_type": "stream",
     "text": [
      "Sum of first 10 Natural number:  55\n"
     ]
    }
   ],
   "source": [
    "## While loop:\n",
    "n = 10\n",
    "sum = 0\n",
    "count = 1\n",
    "\n",
    "while count <= n:\n",
    "    sum = sum + count\n",
    "    count = count + 1\n",
    "print(\"Sum of first 10 Natural number: \", sum)"
   ]
  },
  {
   "cell_type": "code",
   "execution_count": 26,
   "id": "08ea16fe",
   "metadata": {},
   "outputs": [
    {
     "name": "stdout",
     "output_type": "stream",
     "text": [
      "55\n"
     ]
    }
   ],
   "source": [
    "n = 10\n",
    "sum = 0\n",
    "\n",
    "for i in range(n + 1):\n",
    "    sum = sum + i\n",
    "print(sum)"
   ]
  },
  {
   "cell_type": "code",
   "execution_count": 28,
   "id": "b280536e",
   "metadata": {},
   "outputs": [
    {
     "name": "stdout",
     "output_type": "stream",
     "text": [
      "2\n",
      "3\n",
      "5\n",
      "7\n",
      "11\n",
      "13\n",
      "17\n",
      "19\n",
      "23\n",
      "29\n",
      "31\n",
      "37\n",
      "41\n",
      "43\n",
      "47\n",
      "53\n",
      "59\n",
      "61\n",
      "67\n",
      "71\n",
      "73\n",
      "79\n",
      "83\n",
      "89\n",
      "97\n"
     ]
    }
   ],
   "source": [
    "## Example - Prime numbers between 1 and 100\n",
    "\n",
    "for num in range(1, 101):\n",
    "    if num > 1:\n",
    "        for i in range(2, num):\n",
    "            if num%i == 0:\n",
    "                break\n",
    "        else:\n",
    "            print(num)"
   ]
  },
  {
   "cell_type": "markdown",
   "id": "d81bb5f9",
   "metadata": {},
   "source": [
    "## Conclusion:\n",
    "- Loops are powerful constructs in python that allow you to execute block of code multiple times."
   ]
  },
  {
   "cell_type": "code",
   "execution_count": null,
   "id": "8017e119",
   "metadata": {},
   "outputs": [],
   "source": []
  }
 ],
 "metadata": {
  "kernelspec": {
   "display_name": "Python 3",
   "language": "python",
   "name": "python3"
  },
  "language_info": {
   "codemirror_mode": {
    "name": "ipython",
    "version": 3
   },
   "file_extension": ".py",
   "mimetype": "text/x-python",
   "name": "python",
   "nbconvert_exporter": "python",
   "pygments_lexer": "ipython3",
   "version": "3.13.5"
  }
 },
 "nbformat": 4,
 "nbformat_minor": 5
}
