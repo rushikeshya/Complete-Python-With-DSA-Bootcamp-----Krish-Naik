{
 "cells": [
  {
   "cell_type": "markdown",
   "id": "48a3eccb",
   "metadata": {},
   "source": [
    "# Syntax:\n",
    "    - Syntax refers to the set of rules that defines the combinations of symbols  that are considered to be correctly structured programms in a language. In simpler terms, syntax is about the correct argument of words and symbols in a code."
   ]
  },
  {
   "cell_type": "code",
   "execution_count": null,
   "id": "81e11298",
   "metadata": {},
   "outputs": [],
   "source": []
  },
  {
   "cell_type": "code",
   "execution_count": null,
   "id": "02aa4297",
   "metadata": {},
   "outputs": [],
   "source": []
  },
  {
   "cell_type": "code",
   "execution_count": null,
   "id": "8f48e4f1",
   "metadata": {},
   "outputs": [],
   "source": []
  }
 ],
 "metadata": {
  "language_info": {
   "name": "python"
  }
 },
 "nbformat": 4,
 "nbformat_minor": 5
}
