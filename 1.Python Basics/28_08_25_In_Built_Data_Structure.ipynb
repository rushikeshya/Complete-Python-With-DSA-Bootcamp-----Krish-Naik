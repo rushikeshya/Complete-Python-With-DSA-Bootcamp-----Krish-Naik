{
 "cells": [
  {
   "cell_type": "markdown",
   "id": "56658df8",
   "metadata": {},
   "source": [
    "# List\n",
    "- List are ordered, mutable collection of items\n",
    "    - `Lists` is `mutable`.This means that after a list has been created, its `contents` can be `changed`.\n",
    "    - `Lists` is an `ordered collection` of elements. This means that: `Order of Insertion` is `Maintained`\n",
    "- They can contain items of different data types"
   ]
  },
  {
   "cell_type": "code",
   "execution_count": 1,
   "id": "f86616bf",
   "metadata": {},
   "outputs": [
    {
     "name": "stdout",
     "output_type": "stream",
     "text": [
      "<class 'list'>\n"
     ]
    }
   ],
   "source": [
    "lst = []\n",
    "print(type(lst))"
   ]
  },
  {
   "cell_type": "code",
   "execution_count": 2,
   "id": "50f1262b",
   "metadata": {},
   "outputs": [
    {
     "name": "stdout",
     "output_type": "stream",
     "text": [
      "['Krish', 'Jack', 'Jacob', 1, 2, 3, 4, 5]\n"
     ]
    }
   ],
   "source": [
    "names = [\"Krish\", \"Jack\", \"Jacob\", 1,2,3,4,5]\n",
    "print(names)"
   ]
  },
  {
   "cell_type": "code",
   "execution_count": 3,
   "id": "a927a723",
   "metadata": {},
   "outputs": [
    {
     "data": {
      "text/plain": [
       "['Jack', 'Jacob']"
      ]
     },
     "execution_count": 3,
     "metadata": {},
     "output_type": "execute_result"
    }
   ],
   "source": [
    "names[1:3]"
   ]
  },
  {
   "cell_type": "code",
   "execution_count": 4,
   "id": "08a55841",
   "metadata": {},
   "outputs": [
    {
     "data": {
      "text/plain": [
       "5"
      ]
     },
     "execution_count": 4,
     "metadata": {},
     "output_type": "execute_result"
    }
   ],
   "source": [
    "names.pop()"
   ]
  },
  {
   "cell_type": "code",
   "execution_count": 5,
   "id": "13551839",
   "metadata": {},
   "outputs": [
    {
     "data": {
      "text/plain": [
       "['Krish', 'Jack', 'Jacob', 1, 2, 3, 4]"
      ]
     },
     "execution_count": 5,
     "metadata": {},
     "output_type": "execute_result"
    }
   ],
   "source": [
    "names"
   ]
  },
  {
   "cell_type": "markdown",
   "id": "850a8c00",
   "metadata": {},
   "source": [
    "# 23-09-2025"
   ]
  },
  {
   "cell_type": "code",
   "execution_count": 10,
   "id": "1e84b03d",
   "metadata": {},
   "outputs": [
    {
     "data": {
      "text/plain": [
       "0"
      ]
     },
     "execution_count": 10,
     "metadata": {},
     "output_type": "execute_result"
    }
   ],
   "source": [
    "names.index(\"Krish\")"
   ]
  },
  {
   "cell_type": "code",
   "execution_count": 11,
   "id": "c274abfe",
   "metadata": {},
   "outputs": [],
   "source": [
    "names.insert(1, \"Rush\")"
   ]
  },
  {
   "cell_type": "code",
   "execution_count": 12,
   "id": "befb995c",
   "metadata": {},
   "outputs": [
    {
     "data": {
      "text/plain": [
       "['Krish', 'Rush', 'Jack', 'Jacob', 1, 2, 3, 4]"
      ]
     },
     "execution_count": 12,
     "metadata": {},
     "output_type": "execute_result"
    }
   ],
   "source": [
    "names"
   ]
  },
  {
   "cell_type": "code",
   "execution_count": 14,
   "id": "faebc5fe",
   "metadata": {},
   "outputs": [],
   "source": [
    "sorted_list = names.sort"
   ]
  },
  {
   "cell_type": "code",
   "execution_count": 19,
   "id": "5720bdd9",
   "metadata": {},
   "outputs": [
    {
     "data": {
      "text/plain": [
       "['Jack', 'Jacob', 'Krish', 'Rush', 1, 2, 3, 4]"
      ]
     },
     "execution_count": 19,
     "metadata": {},
     "output_type": "execute_result"
    }
   ],
   "source": [
    "names"
   ]
  },
  {
   "cell_type": "code",
   "execution_count": 20,
   "id": "784ae3a2",
   "metadata": {},
   "outputs": [],
   "source": [
    "names.reverse()"
   ]
  },
  {
   "cell_type": "code",
   "execution_count": 21,
   "id": "90c7cf19",
   "metadata": {},
   "outputs": [
    {
     "data": {
      "text/plain": [
       "[4, 3, 2, 1, 'Rush', 'Krish', 'Jacob', 'Jack']"
      ]
     },
     "execution_count": 21,
     "metadata": {},
     "output_type": "execute_result"
    }
   ],
   "source": [
    "names"
   ]
  },
  {
   "cell_type": "code",
   "execution_count": 22,
   "id": "231b2276",
   "metadata": {},
   "outputs": [],
   "source": [
    "names.remove(4)"
   ]
  },
  {
   "cell_type": "code",
   "execution_count": null,
   "id": "63ff19ae",
   "metadata": {},
   "outputs": [
    {
     "data": {
      "text/plain": [
       "[3, 2, 1, 'Rush', 'Krish', 'Jacob', 'Jack']"
      ]
     },
     "execution_count": 23,
     "metadata": {},
     "output_type": "execute_result"
    }
   ],
   "source": [
    "names"
   ]
  },
  {
   "cell_type": "code",
   "execution_count": 24,
   "id": "23102873",
   "metadata": {},
   "outputs": [
    {
     "data": {
      "text/plain": [
       "[]"
      ]
     },
     "execution_count": 24,
     "metadata": {},
     "output_type": "execute_result"
    }
   ],
   "source": [
    "names.clear()\n",
    "names"
   ]
  },
  {
   "cell_type": "markdown",
   "id": "f21f239f",
   "metadata": {},
   "source": [
    "# Slicing List"
   ]
  },
  {
   "cell_type": "code",
   "execution_count": 25,
   "id": "aa88cbbc",
   "metadata": {},
   "outputs": [],
   "source": [
    "numbers = [1,2,3,4,5,6,7,8,9,10]"
   ]
  },
  {
   "cell_type": "code",
   "execution_count": 31,
   "id": "cabd1786",
   "metadata": {},
   "outputs": [
    {
     "name": "stdout",
     "output_type": "stream",
     "text": [
      "[3, 4, 5]\n",
      "[1, 2, 3, 4, 5]\n",
      "[6, 7, 8, 9, 10]\n",
      "[1, 3, 5, 7, 9]\n",
      "[10, 9, 8, 7, 6, 5, 4, 3, 2, 1]\n"
     ]
    }
   ],
   "source": [
    "print(numbers[2:5])\n",
    "print(numbers[:5])\n",
    "print(numbers[5:])\n",
    "print(numbers[::2])\n",
    "print(numbers[::-1])"
   ]
  },
  {
   "cell_type": "code",
   "execution_count": 34,
   "id": "847e51f8",
   "metadata": {},
   "outputs": [
    {
     "data": {
      "text/plain": [
       "[1, 5, 9]"
      ]
     },
     "execution_count": 34,
     "metadata": {},
     "output_type": "execute_result"
    }
   ],
   "source": [
    "numbers[::4]"
   ]
  },
  {
   "cell_type": "markdown",
   "id": "7948e9c5",
   "metadata": {},
   "source": [
    "## Iterating Over List"
   ]
  },
  {
   "cell_type": "code",
   "execution_count": 37,
   "id": "31a13468",
   "metadata": {},
   "outputs": [
    {
     "name": "stdout",
     "output_type": "stream",
     "text": [
      "['Krish', 'Jack', 'Jacob', 1, 2, 3, 4, 5]\n",
      "Krish\n",
      "Jack\n",
      "Jacob\n",
      "1\n",
      "2\n",
      "3\n",
      "4\n",
      "5\n"
     ]
    }
   ],
   "source": [
    "names = [\"Krish\", \"Jack\", \"Jacob\", 1,2,3,4,5]\n",
    "print(names)\n",
    "\n",
    "for name in names:\n",
    "    print(name)"
   ]
  },
  {
   "cell_type": "code",
   "execution_count": 40,
   "id": "7b0b3df1",
   "metadata": {},
   "outputs": [
    {
     "name": "stdout",
     "output_type": "stream",
     "text": [
      "0 Krish\n",
      "1 Jack\n",
      "2 Jacob\n",
      "3 1\n",
      "4 2\n",
      "5 3\n",
      "6 4\n",
      "7 5\n"
     ]
    }
   ],
   "source": [
    "## Iterating with index\n",
    "for index, name in enumerate(names):\n",
    "    print(index, name)"
   ]
  },
  {
   "cell_type": "code",
   "execution_count": 41,
   "id": "6a16f3ac",
   "metadata": {},
   "outputs": [],
   "source": [
    "## List Comprehension\n",
    "\n",
    "lst = []\n",
    "for x in range(10):\n",
    "    lst.append(x**2)"
   ]
  },
  {
   "cell_type": "code",
   "execution_count": 42,
   "id": "2af805f7",
   "metadata": {},
   "outputs": [
    {
     "data": {
      "text/plain": [
       "[0, 1, 4, 9, 16, 25, 36, 49, 64, 81]"
      ]
     },
     "execution_count": 42,
     "metadata": {},
     "output_type": "execute_result"
    }
   ],
   "source": [
    "lst"
   ]
  },
  {
   "cell_type": "code",
   "execution_count": 47,
   "id": "0c62dd9e",
   "metadata": {},
   "outputs": [
    {
     "data": {
      "text/plain": [
       "[0, 1, 4, 9, 16, 25, 36, 49, 64, 81]"
      ]
     },
     "execution_count": 47,
     "metadata": {},
     "output_type": "execute_result"
    }
   ],
   "source": [
    "## List Comprenhension example\n",
    "[x**2 for x in range(10)]"
   ]
  },
  {
   "cell_type": "markdown",
   "id": "f68813ba",
   "metadata": {},
   "source": [
    "##### List Comprenhension Syntax\n",
    "\n",
    "- Basic Syntax: \n",
    "    - [expression `for` item `in` iterable]\n",
    "<br></br>\n",
    "- with condition logic: \n",
    "    - [expression `for` item `in` iterable `if` condition]\n",
    "<br></br>\n",
    "- Nested List Comprehension:\n",
    "    - [expression `for` item1 in iterable1 `for` item2 in iterable2]"
   ]
  },
  {
   "cell_type": "markdown",
   "id": "d4bdf625",
   "metadata": {},
   "source": [
    "## Basic List Comprehension"
   ]
  },
  {
   "cell_type": "code",
   "execution_count": 48,
   "id": "aa309306",
   "metadata": {},
   "outputs": [
    {
     "name": "stdout",
     "output_type": "stream",
     "text": [
      "[0, 1, 4, 9, 16, 25, 36, 49, 64, 81]\n"
     ]
    }
   ],
   "source": [
    "### Basic List Comprenhension example\n",
    "square = [num**2 for num in range(10)]\n",
    "print(square)"
   ]
  },
  {
   "cell_type": "markdown",
   "id": "0a4cf764",
   "metadata": {},
   "source": [
    "### List Comprehension with Condition"
   ]
  },
  {
   "cell_type": "code",
   "execution_count": 50,
   "id": "992d7b43",
   "metadata": {},
   "outputs": [
    {
     "data": {
      "text/plain": [
       "[0, 2, 4, 6, 8]"
      ]
     },
     "execution_count": 50,
     "metadata": {},
     "output_type": "execute_result"
    }
   ],
   "source": [
    "[num for num in range(10) if num%2 == 0]"
   ]
  },
  {
   "cell_type": "markdown",
   "id": "f8b10401",
   "metadata": {},
   "source": [
    "## Nested List Comprehension"
   ]
  },
  {
   "cell_type": "code",
   "execution_count": 51,
   "id": "d067866c",
   "metadata": {},
   "outputs": [
    {
     "name": "stdout",
     "output_type": "stream",
     "text": [
      "[(1, 'a'), (1, 'b'), (1, 'c'), (1, 'd'), (2, 'a'), (2, 'b'), (2, 'c'), (2, 'd'), (3, 'a'), (3, 'b'), (3, 'c'), (3, 'd'), (4, 'a'), (4, 'b'), (4, 'c'), (4, 'd')]\n"
     ]
    }
   ],
   "source": [
    "lst1 = [1,2,3,4]\n",
    "lst2 = ['a','b','c','d']\n",
    "\n",
    "pair = [(i,j) for i in lst1 for j in lst2]\n",
    "print(pair)"
   ]
  },
  {
   "cell_type": "code",
   "execution_count": 54,
   "id": "97d6b980",
   "metadata": {},
   "outputs": [
    {
     "name": "stdout",
     "output_type": "stream",
     "text": [
      "[5, 5, 6, 4, 13]\n"
     ]
    }
   ],
   "source": [
    "### List Comprehension with function calls\n",
    "words = [\"hello\", \"world\", \"Python\", \"list\", \"Comprehension\"]\n",
    "lengths = [len(word) for word in words]\n",
    "print(lengths)"
   ]
  },
  {
   "cell_type": "markdown",
   "id": "2a275028",
   "metadata": {},
   "source": [
    "### Conclusion of List Comprehension\n",
    "- List Comprehension are a powerful and concise way to create lists in python. They are syntactilly compact and replace more verbose looping constructs.\n",
    "- Understanding the syntax of list comprehension will help us to write clener and more python code."
   ]
  },
  {
   "cell_type": "markdown",
   "id": "9f55aca1",
   "metadata": {},
   "source": []
  }
 ],
 "metadata": {
  "kernelspec": {
   "display_name": "Python 3",
   "language": "python",
   "name": "python3"
  },
  "language_info": {
   "codemirror_mode": {
    "name": "ipython",
    "version": 3
   },
   "file_extension": ".py",
   "mimetype": "text/x-python",
   "name": "python",
   "nbconvert_exporter": "python",
   "pygments_lexer": "ipython3",
   "version": "3.13.5"
  }
 },
 "nbformat": 4,
 "nbformat_minor": 5
}
